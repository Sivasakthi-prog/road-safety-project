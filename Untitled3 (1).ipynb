{
  "nbformat": 4,
  "nbformat_minor": 0,
  "metadata": {
    "colab": {
      "provenance": []
    },
    "kernelspec": {
      "name": "python3",
      "display_name": "Python 3"
    },
    "language_info": {
      "name": "python"
    }
  },
  "cells": [
    {
      "cell_type": "code",
      "execution_count": null,
      "metadata": {
        "colab": {
          "base_uri": "https://localhost:8080/"
        },
        "id": "wP6NYE9iByIx",
        "outputId": "79f352ec-34d7-4449-b8da-acd865bc9c8b"
      },
      "outputs": [
        {
          "output_type": "stream",
          "name": "stdout",
          "text": [
            "      Name   Age  Marks  Attendance Passed\n",
            "0    Alice  20.0   85.0        90.0    Yes\n",
            "1      Bob  21.0    NaN        80.0     No\n",
            "2  Charlie   NaN   78.0         NaN    Yes\n",
            "3    David  22.0   90.0        85.0    Yes\n",
            "4      Eve  20.0   88.0        95.0     No\n"
          ]
        }
      ],
      "source": [
        "import pandas as pd\n",
        "df = pd.read_csv(\"students_dataset.csv\")\n",
        "print(df.head())"
      ]
    }
  ]
}