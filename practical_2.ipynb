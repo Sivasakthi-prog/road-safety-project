{
  "nbformat": 4,
  "nbformat_minor": 0,
  "metadata": {
    "colab": {
      "provenance": []
    },
    "kernelspec": {
      "name": "python3",
      "display_name": "Python 3"
    },
    "language_info": {
      "name": "python"
    }
  },
  "cells": [
    {
      "cell_type": "code",
      "execution_count": null,
      "metadata": {
        "colab": {
          "base_uri": "https://localhost:8080/"
        },
        "id": "uAbXyezQOIvq",
        "outputId": "98c8b5f5-25ed-4975-85b1-12e219b1c0af"
      },
      "outputs": [
        {
          "output_type": "stream",
          "name": "stdout",
          "text": [
            "      Name   Age  Marks  Attendance Passed\n",
            "0    Alice  20.0   85.0        90.0    Yes\n",
            "1      Bob  21.0    NaN        80.0     No\n",
            "2  Charlie   NaN   78.0         NaN    Yes\n",
            "3    David  22.0   90.0        85.0    Yes\n",
            "4      Eve  20.0   88.0        95.0     No\n"
          ]
        }
      ],
      "source": [
        "import pandas as pd\n",
        "df=pd.read_csv(\"students_dataset.csv\")\n",
        "print(df.head())"
      ]
    },
    {
      "cell_type": "code",
      "source": [
        "print(df)"
      ],
      "metadata": {
        "colab": {
          "base_uri": "https://localhost:8080/"
        },
        "id": "ZvkasqnwQJJc",
        "outputId": "6a642980-6bd4-4450-9e6d-7b0350305401"
      },
      "execution_count": null,
      "outputs": [
        {
          "output_type": "stream",
          "name": "stdout",
          "text": [
            "       Name   Age  Marks  Attendance Passed\n",
            "0     Alice  20.0   85.0        90.0    Yes\n",
            "1       Bob  21.0    NaN        80.0     No\n",
            "2   Charlie   NaN   78.0         NaN    Yes\n",
            "3     David  22.0   90.0        85.0    Yes\n",
            "4       Eve  20.0   88.0        95.0     No\n",
            "5     Frank   NaN   76.0        70.0    Yes\n",
            "6     Grace  23.0    NaN        88.0     No\n",
            "7      Hank  21.0   80.0         NaN    Yes\n",
            "8       Ivy  24.0   92.0        92.0    Yes\n",
            "9      Jack   NaN   79.0        85.0     No\n",
            "10    Kelly  22.0    NaN        78.0    Yes\n",
            "11      Leo  23.0   87.0         NaN    Yes\n",
            "12     Mona  21.0   83.0        80.0     No\n",
            "13     Nina   NaN   77.0        89.0    Yes\n",
            "14    Oscar  25.0    NaN        91.0     No\n",
            "15     Paul  22.0   81.0         NaN    Yes\n"
          ]
        }
      ]
    },
    {
      "cell_type": "code",
      "source": [
        "print(df.isnull().sum())"
      ],
      "metadata": {
        "colab": {
          "base_uri": "https://localhost:8080/"
        },
        "id": "szfM4DHDQRBw",
        "outputId": "a5a18091-1105-4d1c-9b15-0836f89fa577"
      },
      "execution_count": null,
      "outputs": [
        {
          "output_type": "stream",
          "name": "stdout",
          "text": [
            "Name          0\n",
            "Age           4\n",
            "Marks         4\n",
            "Attendance    4\n",
            "Passed        0\n",
            "dtype: int64\n"
          ]
        }
      ]
    },
    {
      "cell_type": "code",
      "source": [
        "df_cleaned=df.dropna()\n",
        "print(df_cleaned)"
      ],
      "metadata": {
        "colab": {
          "base_uri": "https://localhost:8080/"
        },
        "id": "g11wwnbaQ5zg",
        "outputId": "ee195f43-e8dd-4341-a5b8-2af42b4595cd"
      },
      "execution_count": null,
      "outputs": [
        {
          "output_type": "stream",
          "name": "stdout",
          "text": [
            "     Name   Age  Marks  Attendance Passed\n",
            "0   Alice  20.0   85.0        90.0    Yes\n",
            "3   David  22.0   90.0        85.0    Yes\n",
            "4     Eve  20.0   88.0        95.0     No\n",
            "8     Ivy  24.0   92.0        92.0    Yes\n",
            "12   Mona  21.0   83.0        80.0     No\n"
          ]
        }
      ]
    },
    {
      "cell_type": "code",
      "source": [
        "df[\"Age\"].fillna(df[\"Age\"].mean(),inplace=True)\n",
        "df[\"Marks\"].fillna(df[\"Marks\"].median(),inplace=True)\n",
        "df[\"Attendance\"].fillna(df[\"Attendance\"].mean(),inplace=True)\n",
        "print(df)"
      ],
      "metadata": {
        "colab": {
          "base_uri": "https://localhost:8080/"
        },
        "id": "CbH7zWsgRTRI",
        "outputId": "0240278a-0417-492f-def8-bd28626bfb19"
      },
      "execution_count": null,
      "outputs": [
        {
          "output_type": "stream",
          "name": "stdout",
          "text": [
            "       Name   Age  Marks  Attendance Passed\n",
            "0     Alice  20.0   85.0       90.00    Yes\n",
            "1       Bob  21.0   82.0       80.00     No\n",
            "2   Charlie  22.0   78.0       85.25    Yes\n",
            "3     David  22.0   90.0       85.00    Yes\n",
            "4       Eve  20.0   88.0       95.00     No\n",
            "5     Frank  22.0   76.0       70.00    Yes\n",
            "6     Grace  23.0   82.0       88.00     No\n",
            "7      Hank  21.0   80.0       85.25    Yes\n",
            "8       Ivy  24.0   92.0       92.00    Yes\n",
            "9      Jack  22.0   79.0       85.00     No\n",
            "10    Kelly  22.0   82.0       78.00    Yes\n",
            "11      Leo  23.0   87.0       85.25    Yes\n",
            "12     Mona  21.0   83.0       80.00     No\n",
            "13     Nina  22.0   77.0       89.00    Yes\n",
            "14    Oscar  25.0   82.0       91.00     No\n",
            "15     Paul  22.0   81.0       85.25    Yes\n"
          ]
        },
        {
          "output_type": "stream",
          "name": "stderr",
          "text": [
            "<ipython-input-19-5d0cfda7acef>:1: FutureWarning: A value is trying to be set on a copy of a DataFrame or Series through chained assignment using an inplace method.\n",
            "The behavior will change in pandas 3.0. This inplace method will never work because the intermediate object on which we are setting values always behaves as a copy.\n",
            "\n",
            "For example, when doing 'df[col].method(value, inplace=True)', try using 'df.method({col: value}, inplace=True)' or df[col] = df[col].method(value) instead, to perform the operation inplace on the original object.\n",
            "\n",
            "\n",
            "  df[\"Age\"].fillna(df[\"Age\"].mean(),inplace=True)\n",
            "<ipython-input-19-5d0cfda7acef>:2: FutureWarning: A value is trying to be set on a copy of a DataFrame or Series through chained assignment using an inplace method.\n",
            "The behavior will change in pandas 3.0. This inplace method will never work because the intermediate object on which we are setting values always behaves as a copy.\n",
            "\n",
            "For example, when doing 'df[col].method(value, inplace=True)', try using 'df.method({col: value}, inplace=True)' or df[col] = df[col].method(value) instead, to perform the operation inplace on the original object.\n",
            "\n",
            "\n",
            "  df[\"Marks\"].fillna(df[\"Marks\"].median(),inplace=True)\n",
            "<ipython-input-19-5d0cfda7acef>:3: FutureWarning: A value is trying to be set on a copy of a DataFrame or Series through chained assignment using an inplace method.\n",
            "The behavior will change in pandas 3.0. This inplace method will never work because the intermediate object on which we are setting values always behaves as a copy.\n",
            "\n",
            "For example, when doing 'df[col].method(value, inplace=True)', try using 'df.method({col: value}, inplace=True)' or df[col] = df[col].method(value) instead, to perform the operation inplace on the original object.\n",
            "\n",
            "\n",
            "  df[\"Attendance\"].fillna(df[\"Attendance\"].mean(),inplace=True)\n"
          ]
        }
      ]
    }
  ]
}